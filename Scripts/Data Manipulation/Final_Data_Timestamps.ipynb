{
 "cells": [
  {
   "cell_type": "code",
   "execution_count": 1,
   "metadata": {},
   "outputs": [],
   "source": [
    "import pandas as pd \n",
    "import numpy as np \n",
    "import matplotlib.pyplot as plt\n",
    "from datetime import datetime, timedelta\n",
    "import pyrsm as rsm \n",
    "import re"
   ]
  },
  {
   "cell_type": "code",
   "execution_count": 2,
   "metadata": {},
   "outputs": [
    {
     "name": "stderr",
     "output_type": "stream",
     "text": [
      "/var/folders/79/jg9qrvxj5v1_ft3s9qfkpbl40000gn/T/ipykernel_79453/1421278644.py:1: DtypeWarning: Columns (3,4,5,6,7,8,9,10,11,12,13,14,15) have mixed types. Specify dtype option on import or set low_memory=False.\n",
      "  all_data = pd.read_csv(\"../Data/Final Dataset with Sentiment/All_Data_Vader.csv\")\n"
     ]
    },
    {
     "data": {
      "text/html": [
       "<div>\n",
       "<style scoped>\n",
       "    .dataframe tbody tr th:only-of-type {\n",
       "        vertical-align: middle;\n",
       "    }\n",
       "\n",
       "    .dataframe tbody tr th {\n",
       "        vertical-align: top;\n",
       "    }\n",
       "\n",
       "    .dataframe thead th {\n",
       "        text-align: right;\n",
       "    }\n",
       "</style>\n",
       "<table border=\"1\" class=\"dataframe\">\n",
       "  <thead>\n",
       "    <tr style=\"text-align: right;\">\n",
       "      <th></th>\n",
       "      <th>Author</th>\n",
       "      <th>Timestamp</th>\n",
       "      <th>Comment</th>\n",
       "      <th>Article</th>\n",
       "      <th>Game Title</th>\n",
       "      <th>Console</th>\n",
       "      <th>Commenter Name</th>\n",
       "      <th>Reviewer Type</th>\n",
       "      <th>Date Commented</th>\n",
       "      <th>Score Number</th>\n",
       "      <th>Release Date</th>\n",
       "      <th>Description</th>\n",
       "      <th>Game Link</th>\n",
       "      <th>Article Link</th>\n",
       "      <th>Platform</th>\n",
       "      <th>Title</th>\n",
       "      <th>Upvotes</th>\n",
       "      <th>Vader_Score</th>\n",
       "    </tr>\n",
       "  </thead>\n",
       "  <tbody>\n",
       "    <tr>\n",
       "      <th>0</th>\n",
       "      <td>shaftedman</td>\n",
       "      <td>1 day ago</td>\n",
       "      <td>IGN Plus... just out of curiosity, does anyone...</td>\n",
       "      <td>daily-deals-the-last-of-us-part-i-spider-man-m...</td>\n",
       "      <td>GameSwitch Sports</td>\n",
       "      <td>NaN</td>\n",
       "      <td>NaN</td>\n",
       "      <td>NaN</td>\n",
       "      <td>NaN</td>\n",
       "      <td>NaN</td>\n",
       "      <td>NaN</td>\n",
       "      <td>NaN</td>\n",
       "      <td>NaN</td>\n",
       "      <td>NaN</td>\n",
       "      <td>NaN</td>\n",
       "      <td>NaN</td>\n",
       "      <td>NaN</td>\n",
       "      <td>Positive</td>\n",
       "    </tr>\n",
       "    <tr>\n",
       "      <th>1</th>\n",
       "      <td>gamingdevil800</td>\n",
       "      <td>3 July, 2021</td>\n",
       "      <td>This would be a lot more simplistic if you jus...</td>\n",
       "      <td>video-game-release-dates-ps4-ps5-xbox-one-seri...</td>\n",
       "      <td>GameFinal Fantasy 7 Rebirth</td>\n",
       "      <td>NaN</td>\n",
       "      <td>NaN</td>\n",
       "      <td>NaN</td>\n",
       "      <td>NaN</td>\n",
       "      <td>NaN</td>\n",
       "      <td>NaN</td>\n",
       "      <td>NaN</td>\n",
       "      <td>NaN</td>\n",
       "      <td>NaN</td>\n",
       "      <td>NaN</td>\n",
       "      <td>NaN</td>\n",
       "      <td>NaN</td>\n",
       "      <td>Positive</td>\n",
       "    </tr>\n",
       "    <tr>\n",
       "      <th>2</th>\n",
       "      <td>Snagglepuss000</td>\n",
       "      <td>1 June, 2021</td>\n",
       "      <td>Back 4 Blood is NOT releasing in June. Pushed ...</td>\n",
       "      <td>video-game-release-dates-ps4-ps5-xbox-one-seri...</td>\n",
       "      <td>GameFinal Fantasy 7 Rebirth</td>\n",
       "      <td>NaN</td>\n",
       "      <td>NaN</td>\n",
       "      <td>NaN</td>\n",
       "      <td>NaN</td>\n",
       "      <td>NaN</td>\n",
       "      <td>NaN</td>\n",
       "      <td>NaN</td>\n",
       "      <td>NaN</td>\n",
       "      <td>NaN</td>\n",
       "      <td>NaN</td>\n",
       "      <td>NaN</td>\n",
       "      <td>NaN</td>\n",
       "      <td>Neutral</td>\n",
       "    </tr>\n",
       "    <tr>\n",
       "      <th>3</th>\n",
       "      <td>seebs</td>\n",
       "      <td>22 July, 2021</td>\n",
       "      <td>MS Flight Simulator, The Ascent, Hades, 12 Min...</td>\n",
       "      <td>video-game-release-dates-ps4-ps5-xbox-one-seri...</td>\n",
       "      <td>GameFinal Fantasy 7 Rebirth</td>\n",
       "      <td>NaN</td>\n",
       "      <td>NaN</td>\n",
       "      <td>NaN</td>\n",
       "      <td>NaN</td>\n",
       "      <td>NaN</td>\n",
       "      <td>NaN</td>\n",
       "      <td>NaN</td>\n",
       "      <td>NaN</td>\n",
       "      <td>NaN</td>\n",
       "      <td>NaN</td>\n",
       "      <td>NaN</td>\n",
       "      <td>NaN</td>\n",
       "      <td>Neutral</td>\n",
       "    </tr>\n",
       "    <tr>\n",
       "      <th>4</th>\n",
       "      <td>LedZepp9</td>\n",
       "      <td>1 June, 2021</td>\n",
       "      <td>All the comments on \"there isn't any games, no...</td>\n",
       "      <td>video-game-release-dates-ps4-ps5-xbox-one-seri...</td>\n",
       "      <td>GameFinal Fantasy 7 Rebirth</td>\n",
       "      <td>NaN</td>\n",
       "      <td>NaN</td>\n",
       "      <td>NaN</td>\n",
       "      <td>NaN</td>\n",
       "      <td>NaN</td>\n",
       "      <td>NaN</td>\n",
       "      <td>NaN</td>\n",
       "      <td>NaN</td>\n",
       "      <td>NaN</td>\n",
       "      <td>NaN</td>\n",
       "      <td>NaN</td>\n",
       "      <td>NaN</td>\n",
       "      <td>Positive</td>\n",
       "    </tr>\n",
       "  </tbody>\n",
       "</table>\n",
       "</div>"
      ],
      "text/plain": [
       "           Author      Timestamp  \\\n",
       "0      shaftedman      1 day ago   \n",
       "1  gamingdevil800   3 July, 2021   \n",
       "2  Snagglepuss000   1 June, 2021   \n",
       "3           seebs  22 July, 2021   \n",
       "4        LedZepp9   1 June, 2021   \n",
       "\n",
       "                                             Comment  \\\n",
       "0  IGN Plus... just out of curiosity, does anyone...   \n",
       "1  This would be a lot more simplistic if you jus...   \n",
       "2  Back 4 Blood is NOT releasing in June. Pushed ...   \n",
       "3  MS Flight Simulator, The Ascent, Hades, 12 Min...   \n",
       "4  All the comments on \"there isn't any games, no...   \n",
       "\n",
       "                                             Article  \\\n",
       "0  daily-deals-the-last-of-us-part-i-spider-man-m...   \n",
       "1  video-game-release-dates-ps4-ps5-xbox-one-seri...   \n",
       "2  video-game-release-dates-ps4-ps5-xbox-one-seri...   \n",
       "3  video-game-release-dates-ps4-ps5-xbox-one-seri...   \n",
       "4  video-game-release-dates-ps4-ps5-xbox-one-seri...   \n",
       "\n",
       "                    Game Title Console Commenter Name Reviewer Type  \\\n",
       "0            GameSwitch Sports     NaN            NaN           NaN   \n",
       "1  GameFinal Fantasy 7 Rebirth     NaN            NaN           NaN   \n",
       "2  GameFinal Fantasy 7 Rebirth     NaN            NaN           NaN   \n",
       "3  GameFinal Fantasy 7 Rebirth     NaN            NaN           NaN   \n",
       "4  GameFinal Fantasy 7 Rebirth     NaN            NaN           NaN   \n",
       "\n",
       "  Date Commented Score Number Release Date Description Game Link Article Link  \\\n",
       "0            NaN          NaN          NaN         NaN       NaN          NaN   \n",
       "1            NaN          NaN          NaN         NaN       NaN          NaN   \n",
       "2            NaN          NaN          NaN         NaN       NaN          NaN   \n",
       "3            NaN          NaN          NaN         NaN       NaN          NaN   \n",
       "4            NaN          NaN          NaN         NaN       NaN          NaN   \n",
       "\n",
       "  Platform Title  Upvotes Vader_Score  \n",
       "0      NaN   NaN      NaN    Positive  \n",
       "1      NaN   NaN      NaN    Positive  \n",
       "2      NaN   NaN      NaN     Neutral  \n",
       "3      NaN   NaN      NaN     Neutral  \n",
       "4      NaN   NaN      NaN    Positive  "
      ]
     },
     "execution_count": 2,
     "metadata": {},
     "output_type": "execute_result"
    }
   ],
   "source": [
    "all_data = pd.read_csv(\"../Data/Final Dataset with Sentiment/All_Data_Vader.csv\")\n",
    "\n",
    "all_data.head()"
   ]
  },
  {
   "cell_type": "code",
   "execution_count": 3,
   "metadata": {},
   "outputs": [
    {
     "data": {
      "text/plain": [
       "((231306, 18),\n",
       " Author             object\n",
       " Timestamp          object\n",
       " Comment            object\n",
       " Article            object\n",
       " Game Title         object\n",
       " Console            object\n",
       " Commenter Name     object\n",
       " Reviewer Type      object\n",
       " Date Commented     object\n",
       " Score Number       object\n",
       " Release Date       object\n",
       " Description        object\n",
       " Game Link          object\n",
       " Article Link       object\n",
       " Platform           object\n",
       " Title              object\n",
       " Upvotes           float64\n",
       " Vader_Score        object\n",
       " dtype: object)"
      ]
     },
     "execution_count": 3,
     "metadata": {},
     "output_type": "execute_result"
    }
   ],
   "source": [
    "all_data.shape, all_data.dtypes"
   ]
  },
  {
   "cell_type": "markdown",
   "metadata": {},
   "source": [
    "**Note:** `I had to clean up all the dates and makes the dtype date uniform so we can play with 'over time' trends.`"
   ]
  },
  {
   "cell_type": "code",
   "execution_count": 4,
   "metadata": {},
   "outputs": [],
   "source": [
    "current_time = datetime(2024, 1, 6) # i did this around 1st week of Jan is what I remember "
   ]
  },
  {
   "cell_type": "code",
   "execution_count": 5,
   "metadata": {},
   "outputs": [],
   "source": [
    "def timestamp_fixer_upper(relative_date_str, current_time):\n",
    "    if pd.isna(relative_date_str) or not isinstance(relative_date_str, str):\n",
    "        return None\n",
    "    \n",
    "    parts = relative_date_str.split()\n",
    "    if len(parts) >= 3:\n",
    "        pass\n",
    "\n",
    "    number, unit = parts[0], parts[1]\n",
    "    try:\n",
    "        number = int(number)\n",
    "    except ValueError:\n",
    "        return None\n",
    "\n",
    "    if 'day' in unit:\n",
    "        return current_time - timedelta(days=number)\n",
    "    elif 'minute' in unit or 'min' in unit:\n",
    "        return current_time - timedelta(minutes=number)\n",
    "    elif 'hour' in unit or 'hr' in unit:\n",
    "        return current_time - timedelta(hours=number)\n",
    "    elif 'week' in unit or 'wk' in unit:\n",
    "        return current_time - timedelta(weeks=number)\n",
    "    elif 'month' in unit or 'mo' in unit:\n",
    "        return current_time - timedelta(days=30 * number)\n",
    "    elif 'year' in unit or 'yr' in unit:\n",
    "        return current_time - timedelta(days=365 * number)\n",
    "    else:\n",
    "        return None"
   ]
  },
  {
   "cell_type": "code",
   "execution_count": 6,
   "metadata": {},
   "outputs": [],
   "source": [
    "def derive_correct_timestamp(row, current_time): \n",
    "    timestamp = row['Timestamp']\n",
    "    if not pd.isna(timestamp):\n",
    "        custom_date_match = re.search(r\"(?P<month>\\w+) (?P<day>\\d{1,2}), (?P<year>\\d{4}) at (?P<hour>\\d{1,2}):(?P<minute>\\d{2}) (?P<ampm>am|pm)\", timestamp)\n",
    "        if custom_date_match:\n",
    "            try:\n",
    "                month = custom_date_match.group('month')\n",
    "                day = int(custom_date_match.group('day'))\n",
    "                year = int(custom_date_match.group('year'))\n",
    "                hour = int(custom_date_match.group('hour'))\n",
    "                minute = int(custom_date_match.group('minute'))\n",
    "                ampm = custom_date_match.group('ampm')\n",
    "                hour = hour if ampm == 'am' else (hour + 12 if hour < 12 else hour)\n",
    "                \n",
    "                return pd.to_datetime(f\"{year}-{month}-{day} {hour}:{minute}\", format='%Y-%B-%d %H:%M')\n",
    "            except ValueError:\n",
    "                pass\n",
    "        elif 'ago' in timestamp:\n",
    "            return timestamp_fixer_upper(timestamp, current_time)     \n",
    "        else:\n",
    "            try:\n",
    "                return pd.to_datetime(timestamp)\n",
    "            except:\n",
    "                pass\n",
    "\n",
    "    if pd.notna(row['Date Commented']):\n",
    "        try:\n",
    "            return pd.to_datetime(row['Date Commented'])\n",
    "        except:\n",
    "            pass\n",
    "\n",
    "    if pd.notna(row['Release Date']):\n",
    "        try:\n",
    "            return pd.to_datetime(row['Release Date'])\n",
    "        except:\n",
    "            pass\n",
    "\n",
    "    return None"
   ]
  },
  {
   "cell_type": "code",
   "execution_count": 7,
   "metadata": {},
   "outputs": [],
   "source": [
    "all_data['Correct_TimeStamp'] = all_data.apply(lambda row: derive_correct_timestamp(row, current_time), axis=1)"
   ]
  },
  {
   "cell_type": "code",
   "execution_count": 8,
   "metadata": {},
   "outputs": [
    {
     "name": "stdout",
     "output_type": "stream",
     "text": [
      "962 230344 231306\n"
     ]
    }
   ],
   "source": [
    "print(all_data['Correct_TimeStamp'].isnull().sum(), all_data['Correct_TimeStamp'].notnull().sum(), len(all_data))"
   ]
  },
  {
   "cell_type": "code",
   "execution_count": 9,
   "metadata": {},
   "outputs": [],
   "source": [
    "temp_df = all_data[all_data['Correct_TimeStamp'].isnull()]"
   ]
  },
  {
   "cell_type": "code",
   "execution_count": 10,
   "metadata": {},
   "outputs": [
    {
     "data": {
      "text/plain": [
       "(962, 962, 962, 962)"
      ]
     },
     "execution_count": 10,
     "metadata": {},
     "output_type": "execute_result"
    }
   ],
   "source": [
    "temp_df[\"Date Commented\"].isnull().sum(), temp_df[\"Release Date\"].isnull().sum(), temp_df[\"Timestamp\"].isnull().sum(), all_data[\"Correct_TimeStamp\"].isnull().sum()"
   ]
  },
  {
   "cell_type": "code",
   "execution_count": 11,
   "metadata": {},
   "outputs": [
    {
     "data": {
      "text/plain": [
       "array([nan], dtype=object)"
      ]
     },
     "execution_count": 11,
     "metadata": {},
     "output_type": "execute_result"
    }
   ],
   "source": [
    "temp_df[\"Timestamp\"].unique()"
   ]
  },
  {
   "cell_type": "code",
   "execution_count": 12,
   "metadata": {},
   "outputs": [
    {
     "name": "stdout",
     "output_type": "stream",
     "text": [
      "Empty DataFrame\n",
      "Columns: [Author, Timestamp, Comment, Article, Game Title, Console, Commenter Name, Reviewer Type, Date Commented, Score Number, Release Date, Description, Game Link, Article Link, Platform, Title, Upvotes, Vader_Score, Correct_TimeStamp]\n",
      "Index: []\n"
     ]
    }
   ],
   "source": [
    "print(temp_df[temp_df[\"Timestamp\"].notnull()])"
   ]
  },
  {
   "cell_type": "code",
   "execution_count": 13,
   "metadata": {},
   "outputs": [
    {
     "name": "stdout",
     "output_type": "stream",
     "text": [
      "962 230344 231306\n"
     ]
    }
   ],
   "source": [
    "print(all_data['Correct_TimeStamp'].isnull().sum(), all_data['Correct_TimeStamp'].notnull().sum(), len(all_data))"
   ]
  },
  {
   "cell_type": "markdown",
   "metadata": {},
   "source": [
    "### this is the 'make the data up' 😅 section \n",
    "`im filling them in with the nearest rows which should help somewhat. `"
   ]
  },
  {
   "cell_type": "code",
   "execution_count": 14,
   "metadata": {},
   "outputs": [
    {
     "name": "stderr",
     "output_type": "stream",
     "text": [
      "/var/folders/79/jg9qrvxj5v1_ft3s9qfkpbl40000gn/T/ipykernel_79453/892409252.py:1: FutureWarning: Series.fillna with 'method' is deprecated and will raise in a future version. Use obj.ffill() or obj.bfill() instead.\n",
      "  all_data['Correct_TimeStamp'].fillna(method='ffill', inplace=True)\n"
     ]
    }
   ],
   "source": [
    "all_data['Correct_TimeStamp'].fillna(method='ffill', inplace=True)"
   ]
  },
  {
   "cell_type": "code",
   "execution_count": 15,
   "metadata": {},
   "outputs": [
    {
     "name": "stdout",
     "output_type": "stream",
     "text": [
      "0 231306 231306\n"
     ]
    }
   ],
   "source": [
    "print(all_data['Correct_TimeStamp'].isnull().sum(), all_data['Correct_TimeStamp'].notnull().sum(), len(all_data))"
   ]
  },
  {
   "cell_type": "markdown",
   "metadata": {},
   "source": [
    "---"
   ]
  },
  {
   "cell_type": "code",
   "execution_count": 16,
   "metadata": {},
   "outputs": [
    {
     "data": {
      "text/plain": [
       "((231306, 19),\n",
       " Author                       object\n",
       " Timestamp                    object\n",
       " Comment                      object\n",
       " Article                      object\n",
       " Game Title                   object\n",
       " Console                      object\n",
       " Commenter Name               object\n",
       " Reviewer Type                object\n",
       " Date Commented               object\n",
       " Score Number                 object\n",
       " Release Date                 object\n",
       " Description                  object\n",
       " Game Link                    object\n",
       " Article Link                 object\n",
       " Platform                     object\n",
       " Title                        object\n",
       " Upvotes                     float64\n",
       " Vader_Score                  object\n",
       " Correct_TimeStamp    datetime64[ns]\n",
       " dtype: object,\n",
       " Index(['Author', 'Timestamp', 'Comment', 'Article', 'Game Title', 'Console',\n",
       "        'Commenter Name', 'Reviewer Type', 'Date Commented', 'Score Number',\n",
       "        'Release Date', 'Description', 'Game Link', 'Article Link', 'Platform',\n",
       "        'Title', 'Upvotes', 'Vader_Score', 'Correct_TimeStamp'],\n",
       "       dtype='object'))"
      ]
     },
     "execution_count": 16,
     "metadata": {},
     "output_type": "execute_result"
    }
   ],
   "source": [
    "all_data.shape, all_data.dtypes, all_data.columns"
   ]
  },
  {
   "cell_type": "code",
   "execution_count": 17,
   "metadata": {},
   "outputs": [],
   "source": [
    "# all_data.to_csv(\"Final_Vader_Time.csv\", index=False)"
   ]
  }
 ],
 "metadata": {
  "kernelspec": {
   "display_name": "Python 3",
   "language": "python",
   "name": "python3"
  },
  "language_info": {
   "codemirror_mode": {
    "name": "ipython",
    "version": 3
   },
   "file_extension": ".py",
   "mimetype": "text/x-python",
   "name": "python",
   "nbconvert_exporter": "python",
   "pygments_lexer": "ipython3",
   "version": "3.11.3"
  },
  "orig_nbformat": 4
 },
 "nbformat": 4,
 "nbformat_minor": 2
}
