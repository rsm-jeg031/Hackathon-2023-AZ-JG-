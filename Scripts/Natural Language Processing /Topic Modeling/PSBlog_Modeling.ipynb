{
 "cells": [
  {
   "cell_type": "code",
   "execution_count": 1,
   "metadata": {},
   "outputs": [],
   "source": [
    "from sklearn.feature_extraction.text import CountVectorizer\n",
    "from sklearn.decomposition import LatentDirichletAllocation\n",
    "import numpy as np\n",
    "import pandas as pd"
   ]
  },
  {
   "cell_type": "code",
   "execution_count": 2,
   "metadata": {},
   "outputs": [
    {
     "name": "stdout",
     "output_type": "stream",
     "text": [
      "         Author                         Timestamp  \\\n",
      "0      engobruh  December 13, 2023 at 8:49 am PST   \n",
      "1     Tim102597  December 13, 2023 at 8:53 am PST   \n",
      "2    cyberpangu  December 13, 2023 at 8:54 am PST   \n",
      "3     StingrayX  December 13, 2023 at 8:55 am PST   \n",
      "4  Prosopopoico  December 13, 2023 at 8:56 am PST   \n",
      "\n",
      "                                             Comment  \\\n",
      "0                                  Finally, quality.   \n",
      "1  Anyone else had buzz listing year star command...   \n",
      "2  I would be happier if it was Ride 5 instead of...   \n",
      "3                                       Solid month!   \n",
      "4  Awesome month! But I just purchased GTAV last ...   \n",
      "\n",
      "                                        Article Link Platform  \n",
      "0  https://blog.playstation.com/2023/12/13/playst...  PS Plus  \n",
      "1  https://blog.playstation.com/2023/12/13/playst...  PS Plus  \n",
      "2  https://blog.playstation.com/2023/12/13/playst...  PS Plus  \n",
      "3  https://blog.playstation.com/2023/12/13/playst...  PS Plus  \n",
      "4  https://blog.playstation.com/2023/12/13/playst...  PS Plus  \n",
      "(13350, 5)\n",
      "Index(['Author', 'Timestamp', 'Comment', 'Article Link', 'Platform'], dtype='object')\n"
     ]
    }
   ],
   "source": [
    "psblog = pd.read_csv(\"../../../Data/Final Dataset /PSBlog/PSBlog_Final.csv\")\n",
    "\n",
    "print(psblog.head())\n",
    "\n",
    "print(psblog.shape)\n",
    "print(psblog.columns)"
   ]
  },
  {
   "cell_type": "code",
   "execution_count": 3,
   "metadata": {},
   "outputs": [
    {
     "data": {
      "text/plain": [
       "(13349, 10079)"
      ]
     },
     "execution_count": 3,
     "metadata": {},
     "output_type": "execute_result"
    }
   ],
   "source": [
    "psblog_data_clean = psblog.dropna(subset=['Comment'])\n",
    "\n",
    "vectorizer = CountVectorizer(max_df=0.95, min_df=2, stop_words='english')\n",
    "data_vectorized = vectorizer.fit_transform(psblog_data_clean['Comment'])\n",
    "\n",
    "data_vectorized.shape"
   ]
  },
  {
   "cell_type": "code",
   "execution_count": 4,
   "metadata": {},
   "outputs": [
    {
     "data": {
      "text/html": [
       "<style>#sk-container-id-1 {color: black;}#sk-container-id-1 pre{padding: 0;}#sk-container-id-1 div.sk-toggleable {background-color: white;}#sk-container-id-1 label.sk-toggleable__label {cursor: pointer;display: block;width: 100%;margin-bottom: 0;padding: 0.3em;box-sizing: border-box;text-align: center;}#sk-container-id-1 label.sk-toggleable__label-arrow:before {content: \"▸\";float: left;margin-right: 0.25em;color: #696969;}#sk-container-id-1 label.sk-toggleable__label-arrow:hover:before {color: black;}#sk-container-id-1 div.sk-estimator:hover label.sk-toggleable__label-arrow:before {color: black;}#sk-container-id-1 div.sk-toggleable__content {max-height: 0;max-width: 0;overflow: hidden;text-align: left;background-color: #f0f8ff;}#sk-container-id-1 div.sk-toggleable__content pre {margin: 0.2em;color: black;border-radius: 0.25em;background-color: #f0f8ff;}#sk-container-id-1 input.sk-toggleable__control:checked~div.sk-toggleable__content {max-height: 200px;max-width: 100%;overflow: auto;}#sk-container-id-1 input.sk-toggleable__control:checked~label.sk-toggleable__label-arrow:before {content: \"▾\";}#sk-container-id-1 div.sk-estimator input.sk-toggleable__control:checked~label.sk-toggleable__label {background-color: #d4ebff;}#sk-container-id-1 div.sk-label input.sk-toggleable__control:checked~label.sk-toggleable__label {background-color: #d4ebff;}#sk-container-id-1 input.sk-hidden--visually {border: 0;clip: rect(1px 1px 1px 1px);clip: rect(1px, 1px, 1px, 1px);height: 1px;margin: -1px;overflow: hidden;padding: 0;position: absolute;width: 1px;}#sk-container-id-1 div.sk-estimator {font-family: monospace;background-color: #f0f8ff;border: 1px dotted black;border-radius: 0.25em;box-sizing: border-box;margin-bottom: 0.5em;}#sk-container-id-1 div.sk-estimator:hover {background-color: #d4ebff;}#sk-container-id-1 div.sk-parallel-item::after {content: \"\";width: 100%;border-bottom: 1px solid gray;flex-grow: 1;}#sk-container-id-1 div.sk-label:hover label.sk-toggleable__label {background-color: #d4ebff;}#sk-container-id-1 div.sk-serial::before {content: \"\";position: absolute;border-left: 1px solid gray;box-sizing: border-box;top: 0;bottom: 0;left: 50%;z-index: 0;}#sk-container-id-1 div.sk-serial {display: flex;flex-direction: column;align-items: center;background-color: white;padding-right: 0.2em;padding-left: 0.2em;position: relative;}#sk-container-id-1 div.sk-item {position: relative;z-index: 1;}#sk-container-id-1 div.sk-parallel {display: flex;align-items: stretch;justify-content: center;background-color: white;position: relative;}#sk-container-id-1 div.sk-item::before, #sk-container-id-1 div.sk-parallel-item::before {content: \"\";position: absolute;border-left: 1px solid gray;box-sizing: border-box;top: 0;bottom: 0;left: 50%;z-index: -1;}#sk-container-id-1 div.sk-parallel-item {display: flex;flex-direction: column;z-index: 1;position: relative;background-color: white;}#sk-container-id-1 div.sk-parallel-item:first-child::after {align-self: flex-end;width: 50%;}#sk-container-id-1 div.sk-parallel-item:last-child::after {align-self: flex-start;width: 50%;}#sk-container-id-1 div.sk-parallel-item:only-child::after {width: 0;}#sk-container-id-1 div.sk-dashed-wrapped {border: 1px dashed gray;margin: 0 0.4em 0.5em 0.4em;box-sizing: border-box;padding-bottom: 0.4em;background-color: white;}#sk-container-id-1 div.sk-label label {font-family: monospace;font-weight: bold;display: inline-block;line-height: 1.2em;}#sk-container-id-1 div.sk-label-container {text-align: center;}#sk-container-id-1 div.sk-container {/* jupyter's `normalize.less` sets `[hidden] { display: none; }` but bootstrap.min.css set `[hidden] { display: none !important; }` so we also need the `!important` here to be able to override the default hidden behavior on the sphinx rendered scikit-learn.org. See: https://github.com/scikit-learn/scikit-learn/issues/21755 */display: inline-block !important;position: relative;}#sk-container-id-1 div.sk-text-repr-fallback {display: none;}</style><div id=\"sk-container-id-1\" class=\"sk-top-container\"><div class=\"sk-text-repr-fallback\"><pre>LatentDirichletAllocation(random_state=0)</pre><b>In a Jupyter environment, please rerun this cell to show the HTML representation or trust the notebook. <br />On GitHub, the HTML representation is unable to render, please try loading this page with nbviewer.org.</b></div><div class=\"sk-container\" hidden><div class=\"sk-item\"><div class=\"sk-estimator sk-toggleable\"><input class=\"sk-toggleable__control sk-hidden--visually\" id=\"sk-estimator-id-1\" type=\"checkbox\" checked><label for=\"sk-estimator-id-1\" class=\"sk-toggleable__label sk-toggleable__label-arrow\">LatentDirichletAllocation</label><div class=\"sk-toggleable__content\"><pre>LatentDirichletAllocation(random_state=0)</pre></div></div></div></div></div>"
      ],
      "text/plain": [
       "LatentDirichletAllocation(random_state=0)"
      ]
     },
     "execution_count": 4,
     "metadata": {},
     "output_type": "execute_result"
    }
   ],
   "source": [
    "num_topics = 10\n",
    "no_top_words = 15\n",
    "lda_model = LatentDirichletAllocation(n_components=num_topics, random_state=0)\n",
    "lda_model.fit(data_vectorized)"
   ]
  },
  {
   "cell_type": "code",
   "execution_count": 5,
   "metadata": {},
   "outputs": [],
   "source": [
    "def display_topics(model, feature_names, no_top_words):\n",
    "    topic_dict = {}\n",
    "    for topic_idx, topic in enumerate(model.components_):\n",
    "        topic_dict[f\"Topic {topic_idx}\"] = \" \".join([feature_names[i] for i in topic.argsort()[:-no_top_words - 1:-1]])\n",
    "    return topic_dict"
   ]
  },
  {
   "cell_type": "code",
   "execution_count": 6,
   "metadata": {},
   "outputs": [
    {
     "data": {
      "text/plain": [
       "{'Topic 0': 'game like play ps4 just ps5 games really hope played new time best people killzone',\n",
       " 'Topic 1': 'play playstation app thanks wait add game store ps games let edition remote sale digital',\n",
       " 'Topic 2': 'games game time just sony ps3 ps1 like ps support ps2 great ps5 want update',\n",
       " 'Topic 3': 'ps4 games 2023 edition star ps5 wars unknown evil strange adventure life mafia definitive game',\n",
       " 'Topic 4': 'game games vr good looks psvr2 great like really looking forward just play month amazing',\n",
       " 'Topic 5': 'games ps plus game price extra man sony don premium just spider month like playstation',\n",
       " 'Topic 6': 'ps5 pc games ps4 sony console just xbox like playstation play ps game make version',\n",
       " 'Topic 7': 'game games just like controller sony year don buy play playstation psvr2 make physical right',\n",
       " 'Topic 8': 'game ps5 version new mode like player release just turismo gran ps4 play make edition',\n",
       " 'Topic 9': 'game free games play just download dead day need version month money dlc nice psvr2'}"
      ]
     },
     "execution_count": 6,
     "metadata": {},
     "output_type": "execute_result"
    }
   ],
   "source": [
    "topics = display_topics(lda_model, vectorizer.get_feature_names_out(), no_top_words)\n",
    "topics"
   ]
  },
  {
   "cell_type": "code",
   "execution_count": 7,
   "metadata": {},
   "outputs": [
    {
     "data": {
      "text/html": [
       "<div>\n",
       "<style scoped>\n",
       "    .dataframe tbody tr th:only-of-type {\n",
       "        vertical-align: middle;\n",
       "    }\n",
       "\n",
       "    .dataframe tbody tr th {\n",
       "        vertical-align: top;\n",
       "    }\n",
       "\n",
       "    .dataframe thead th {\n",
       "        text-align: right;\n",
       "    }\n",
       "</style>\n",
       "<table border=\"1\" class=\"dataframe\">\n",
       "  <thead>\n",
       "    <tr style=\"text-align: right;\">\n",
       "      <th></th>\n",
       "      <th>Topic 0</th>\n",
       "      <th>Topic 1</th>\n",
       "      <th>Topic 2</th>\n",
       "      <th>Topic 3</th>\n",
       "      <th>Topic 4</th>\n",
       "      <th>Topic 5</th>\n",
       "      <th>Topic 6</th>\n",
       "      <th>Topic 7</th>\n",
       "      <th>Topic 8</th>\n",
       "      <th>Topic 9</th>\n",
       "    </tr>\n",
       "  </thead>\n",
       "  <tbody>\n",
       "    <tr>\n",
       "      <th>0</th>\n",
       "      <td>game like play ps4 just ps5 games really hope ...</td>\n",
       "      <td>play playstation app thanks wait add game stor...</td>\n",
       "      <td>games game time just sony ps3 ps1 like ps supp...</td>\n",
       "      <td>ps4 games 2023 edition star ps5 wars unknown e...</td>\n",
       "      <td>game games vr good looks psvr2 great like real...</td>\n",
       "      <td>games ps plus game price extra man sony don pr...</td>\n",
       "      <td>ps5 pc games ps4 sony console just xbox like p...</td>\n",
       "      <td>game games just like controller sony year don ...</td>\n",
       "      <td>game ps5 version new mode like player release ...</td>\n",
       "      <td>game free games play just download dead day ne...</td>\n",
       "    </tr>\n",
       "  </tbody>\n",
       "</table>\n",
       "</div>"
      ],
      "text/plain": [
       "                                             Topic 0  \\\n",
       "0  game like play ps4 just ps5 games really hope ...   \n",
       "\n",
       "                                             Topic 1  \\\n",
       "0  play playstation app thanks wait add game stor...   \n",
       "\n",
       "                                             Topic 2  \\\n",
       "0  games game time just sony ps3 ps1 like ps supp...   \n",
       "\n",
       "                                             Topic 3  \\\n",
       "0  ps4 games 2023 edition star ps5 wars unknown e...   \n",
       "\n",
       "                                             Topic 4  \\\n",
       "0  game games vr good looks psvr2 great like real...   \n",
       "\n",
       "                                             Topic 5  \\\n",
       "0  games ps plus game price extra man sony don pr...   \n",
       "\n",
       "                                             Topic 6  \\\n",
       "0  ps5 pc games ps4 sony console just xbox like p...   \n",
       "\n",
       "                                             Topic 7  \\\n",
       "0  game games just like controller sony year don ...   \n",
       "\n",
       "                                             Topic 8  \\\n",
       "0  game ps5 version new mode like player release ...   \n",
       "\n",
       "                                             Topic 9  \n",
       "0  game free games play just download dead day ne...  "
      ]
     },
     "execution_count": 7,
     "metadata": {},
     "output_type": "execute_result"
    }
   ],
   "source": [
    "topics_df = pd.DataFrame(topics, index=[0])\n",
    "\n",
    "topics_df"
   ]
  },
  {
   "cell_type": "code",
   "execution_count": 8,
   "metadata": {},
   "outputs": [
    {
     "data": {
      "text/html": [
       "<div>\n",
       "<style scoped>\n",
       "    .dataframe tbody tr th:only-of-type {\n",
       "        vertical-align: middle;\n",
       "    }\n",
       "\n",
       "    .dataframe tbody tr th {\n",
       "        vertical-align: top;\n",
       "    }\n",
       "\n",
       "    .dataframe thead th {\n",
       "        text-align: right;\n",
       "    }\n",
       "</style>\n",
       "<table border=\"1\" class=\"dataframe\">\n",
       "  <thead>\n",
       "    <tr style=\"text-align: right;\">\n",
       "      <th></th>\n",
       "      <th>Ranking</th>\n",
       "      <th>Topic</th>\n",
       "    </tr>\n",
       "  </thead>\n",
       "  <tbody>\n",
       "    <tr>\n",
       "      <th>0</th>\n",
       "      <td>Topic 1</td>\n",
       "      <td>game like play ps4 just ps5 games really hope ...</td>\n",
       "    </tr>\n",
       "    <tr>\n",
       "      <th>1</th>\n",
       "      <td>Topic 2</td>\n",
       "      <td>play playstation app thanks wait add game stor...</td>\n",
       "    </tr>\n",
       "    <tr>\n",
       "      <th>2</th>\n",
       "      <td>Topic 3</td>\n",
       "      <td>games game time just sony ps3 ps1 like ps supp...</td>\n",
       "    </tr>\n",
       "    <tr>\n",
       "      <th>3</th>\n",
       "      <td>Topic 4</td>\n",
       "      <td>ps4 games 2023 edition star ps5 wars unknown e...</td>\n",
       "    </tr>\n",
       "    <tr>\n",
       "      <th>4</th>\n",
       "      <td>Topic 5</td>\n",
       "      <td>game games vr good looks psvr2 great like real...</td>\n",
       "    </tr>\n",
       "    <tr>\n",
       "      <th>5</th>\n",
       "      <td>Topic 6</td>\n",
       "      <td>games ps plus game price extra man sony don pr...</td>\n",
       "    </tr>\n",
       "    <tr>\n",
       "      <th>6</th>\n",
       "      <td>Topic 7</td>\n",
       "      <td>ps5 pc games ps4 sony console just xbox like p...</td>\n",
       "    </tr>\n",
       "    <tr>\n",
       "      <th>7</th>\n",
       "      <td>Topic 8</td>\n",
       "      <td>game games just like controller sony year don ...</td>\n",
       "    </tr>\n",
       "    <tr>\n",
       "      <th>8</th>\n",
       "      <td>Topic 9</td>\n",
       "      <td>game ps5 version new mode like player release ...</td>\n",
       "    </tr>\n",
       "    <tr>\n",
       "      <th>9</th>\n",
       "      <td>Topic 10</td>\n",
       "      <td>game free games play just download dead day ne...</td>\n",
       "    </tr>\n",
       "  </tbody>\n",
       "</table>\n",
       "</div>"
      ],
      "text/plain": [
       "    Ranking                                              Topic\n",
       "0   Topic 1  game like play ps4 just ps5 games really hope ...\n",
       "1   Topic 2  play playstation app thanks wait add game stor...\n",
       "2   Topic 3  games game time just sony ps3 ps1 like ps supp...\n",
       "3   Topic 4  ps4 games 2023 edition star ps5 wars unknown e...\n",
       "4   Topic 5  game games vr good looks psvr2 great like real...\n",
       "5   Topic 6  games ps plus game price extra man sony don pr...\n",
       "6   Topic 7  ps5 pc games ps4 sony console just xbox like p...\n",
       "7   Topic 8  game games just like controller sony year don ...\n",
       "8   Topic 9  game ps5 version new mode like player release ...\n",
       "9  Topic 10  game free games play just download dead day ne..."
      ]
     },
     "execution_count": 8,
     "metadata": {},
     "output_type": "execute_result"
    }
   ],
   "source": [
    "topic_df_clean = {\n",
    "    \"Ranking\": [f\"Topic {i+1}\" for i in range(len(topics))],\n",
    "    \"Topic\": list(topics.values())\n",
    "}\n",
    "topic_df_clean = pd.DataFrame(topic_df_clean)\n",
    "\n",
    "topic_df_clean"
   ]
  }
 ],
 "metadata": {
  "kernelspec": {
   "display_name": "Python 3",
   "language": "python",
   "name": "python3"
  },
  "language_info": {
   "codemirror_mode": {
    "name": "ipython",
    "version": 3
   },
   "file_extension": ".py",
   "mimetype": "text/x-python",
   "name": "python",
   "nbconvert_exporter": "python",
   "pygments_lexer": "ipython3",
   "version": "3.11.3"
  },
  "orig_nbformat": 4
 },
 "nbformat": 4,
 "nbformat_minor": 2
}
