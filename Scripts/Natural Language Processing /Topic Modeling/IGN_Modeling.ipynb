{
 "cells": [
  {
   "cell_type": "code",
   "execution_count": 1,
   "metadata": {},
   "outputs": [],
   "source": [
    "from sklearn.feature_extraction.text import CountVectorizer\n",
    "from sklearn.decomposition import LatentDirichletAllocation\n",
    "import numpy as np\n",
    "import pandas as pd"
   ]
  },
  {
   "cell_type": "code",
   "execution_count": 2,
   "metadata": {},
   "outputs": [
    {
     "name": "stdout",
     "output_type": "stream",
     "text": [
      "           Author      Timestamp  \\\n",
      "0      shaftedman      1 day ago   \n",
      "1  gamingdevil800   3 July, 2021   \n",
      "2  Snagglepuss000   1 June, 2021   \n",
      "3           seebs  22 July, 2021   \n",
      "4        LedZepp9   1 June, 2021   \n",
      "\n",
      "                                             Comment  \\\n",
      "0  IGN Plus... just out of curiosity, does anyone...   \n",
      "1  This would be a lot more simplistic if you jus...   \n",
      "2  Back 4 Blood is NOT releasing in June. Pushed ...   \n",
      "3  MS Flight Simulator, The Ascent, Hades, 12 Min...   \n",
      "4  All the comments on \"there isn't any games, no...   \n",
      "\n",
      "                                             Article  \\\n",
      "0  daily-deals-the-last-of-us-part-i-spider-man-m...   \n",
      "1  video-game-release-dates-ps4-ps5-xbox-one-seri...   \n",
      "2  video-game-release-dates-ps4-ps5-xbox-one-seri...   \n",
      "3  video-game-release-dates-ps4-ps5-xbox-one-seri...   \n",
      "4  video-game-release-dates-ps4-ps5-xbox-one-seri...   \n",
      "\n",
      "                    Game Title  \n",
      "0            GameSwitch Sports  \n",
      "1  GameFinal Fantasy 7 Rebirth  \n",
      "2  GameFinal Fantasy 7 Rebirth  \n",
      "3  GameFinal Fantasy 7 Rebirth  \n",
      "4  GameFinal Fantasy 7 Rebirth  \n",
      "(41795, 5)\n",
      "Index(['Author', 'Timestamp', 'Comment', 'Article', 'Game Title'], dtype='object')\n"
     ]
    }
   ],
   "source": [
    "ign = pd.read_csv(\"../../../Data/Final Dataset /IGN/IGN_Final.csv\")\n",
    "\n",
    "print(ign.head())\n",
    "\n",
    "print(ign.shape)\n",
    "print(ign.columns)"
   ]
  },
  {
   "cell_type": "code",
   "execution_count": 3,
   "metadata": {},
   "outputs": [
    {
     "data": {
      "text/plain": [
       "(41795, 15637)"
      ]
     },
     "execution_count": 3,
     "metadata": {},
     "output_type": "execute_result"
    }
   ],
   "source": [
    "ign_data_clean = ign.dropna(subset=['Comment'])\n",
    "\n",
    "vectorizer = CountVectorizer(max_df=0.95, min_df=2, stop_words='english')\n",
    "data_vectorized = vectorizer.fit_transform(ign_data_clean['Comment'])\n",
    "\n",
    "data_vectorized.shape"
   ]
  },
  {
   "cell_type": "code",
   "execution_count": 4,
   "metadata": {},
   "outputs": [
    {
     "data": {
      "text/html": [
       "<style>#sk-container-id-1 {color: black;}#sk-container-id-1 pre{padding: 0;}#sk-container-id-1 div.sk-toggleable {background-color: white;}#sk-container-id-1 label.sk-toggleable__label {cursor: pointer;display: block;width: 100%;margin-bottom: 0;padding: 0.3em;box-sizing: border-box;text-align: center;}#sk-container-id-1 label.sk-toggleable__label-arrow:before {content: \"▸\";float: left;margin-right: 0.25em;color: #696969;}#sk-container-id-1 label.sk-toggleable__label-arrow:hover:before {color: black;}#sk-container-id-1 div.sk-estimator:hover label.sk-toggleable__label-arrow:before {color: black;}#sk-container-id-1 div.sk-toggleable__content {max-height: 0;max-width: 0;overflow: hidden;text-align: left;background-color: #f0f8ff;}#sk-container-id-1 div.sk-toggleable__content pre {margin: 0.2em;color: black;border-radius: 0.25em;background-color: #f0f8ff;}#sk-container-id-1 input.sk-toggleable__control:checked~div.sk-toggleable__content {max-height: 200px;max-width: 100%;overflow: auto;}#sk-container-id-1 input.sk-toggleable__control:checked~label.sk-toggleable__label-arrow:before {content: \"▾\";}#sk-container-id-1 div.sk-estimator input.sk-toggleable__control:checked~label.sk-toggleable__label {background-color: #d4ebff;}#sk-container-id-1 div.sk-label input.sk-toggleable__control:checked~label.sk-toggleable__label {background-color: #d4ebff;}#sk-container-id-1 input.sk-hidden--visually {border: 0;clip: rect(1px 1px 1px 1px);clip: rect(1px, 1px, 1px, 1px);height: 1px;margin: -1px;overflow: hidden;padding: 0;position: absolute;width: 1px;}#sk-container-id-1 div.sk-estimator {font-family: monospace;background-color: #f0f8ff;border: 1px dotted black;border-radius: 0.25em;box-sizing: border-box;margin-bottom: 0.5em;}#sk-container-id-1 div.sk-estimator:hover {background-color: #d4ebff;}#sk-container-id-1 div.sk-parallel-item::after {content: \"\";width: 100%;border-bottom: 1px solid gray;flex-grow: 1;}#sk-container-id-1 div.sk-label:hover label.sk-toggleable__label {background-color: #d4ebff;}#sk-container-id-1 div.sk-serial::before {content: \"\";position: absolute;border-left: 1px solid gray;box-sizing: border-box;top: 0;bottom: 0;left: 50%;z-index: 0;}#sk-container-id-1 div.sk-serial {display: flex;flex-direction: column;align-items: center;background-color: white;padding-right: 0.2em;padding-left: 0.2em;position: relative;}#sk-container-id-1 div.sk-item {position: relative;z-index: 1;}#sk-container-id-1 div.sk-parallel {display: flex;align-items: stretch;justify-content: center;background-color: white;position: relative;}#sk-container-id-1 div.sk-item::before, #sk-container-id-1 div.sk-parallel-item::before {content: \"\";position: absolute;border-left: 1px solid gray;box-sizing: border-box;top: 0;bottom: 0;left: 50%;z-index: -1;}#sk-container-id-1 div.sk-parallel-item {display: flex;flex-direction: column;z-index: 1;position: relative;background-color: white;}#sk-container-id-1 div.sk-parallel-item:first-child::after {align-self: flex-end;width: 50%;}#sk-container-id-1 div.sk-parallel-item:last-child::after {align-self: flex-start;width: 50%;}#sk-container-id-1 div.sk-parallel-item:only-child::after {width: 0;}#sk-container-id-1 div.sk-dashed-wrapped {border: 1px dashed gray;margin: 0 0.4em 0.5em 0.4em;box-sizing: border-box;padding-bottom: 0.4em;background-color: white;}#sk-container-id-1 div.sk-label label {font-family: monospace;font-weight: bold;display: inline-block;line-height: 1.2em;}#sk-container-id-1 div.sk-label-container {text-align: center;}#sk-container-id-1 div.sk-container {/* jupyter's `normalize.less` sets `[hidden] { display: none; }` but bootstrap.min.css set `[hidden] { display: none !important; }` so we also need the `!important` here to be able to override the default hidden behavior on the sphinx rendered scikit-learn.org. See: https://github.com/scikit-learn/scikit-learn/issues/21755 */display: inline-block !important;position: relative;}#sk-container-id-1 div.sk-text-repr-fallback {display: none;}</style><div id=\"sk-container-id-1\" class=\"sk-top-container\"><div class=\"sk-text-repr-fallback\"><pre>LatentDirichletAllocation(random_state=0)</pre><b>In a Jupyter environment, please rerun this cell to show the HTML representation or trust the notebook. <br />On GitHub, the HTML representation is unable to render, please try loading this page with nbviewer.org.</b></div><div class=\"sk-container\" hidden><div class=\"sk-item\"><div class=\"sk-estimator sk-toggleable\"><input class=\"sk-toggleable__control sk-hidden--visually\" id=\"sk-estimator-id-1\" type=\"checkbox\" checked><label for=\"sk-estimator-id-1\" class=\"sk-toggleable__label sk-toggleable__label-arrow\">LatentDirichletAllocation</label><div class=\"sk-toggleable__content\"><pre>LatentDirichletAllocation(random_state=0)</pre></div></div></div></div></div>"
      ],
      "text/plain": [
       "LatentDirichletAllocation(random_state=0)"
      ]
     },
     "execution_count": 4,
     "metadata": {},
     "output_type": "execute_result"
    }
   ],
   "source": [
    "num_topics = 10\n",
    "no_top_words = 15\n",
    "lda_model = LatentDirichletAllocation(n_components=num_topics, random_state=0)\n",
    "lda_model.fit(data_vectorized)"
   ]
  },
  {
   "cell_type": "code",
   "execution_count": 5,
   "metadata": {},
   "outputs": [],
   "source": [
    "def display_topics(model, feature_names, no_top_words):\n",
    "    topic_dict = {}\n",
    "    for topic_idx, topic in enumerate(model.components_):\n",
    "        topic_dict[f\"Topic {topic_idx}\"] = \" \".join([feature_names[i] for i in topic.argsort()[:-no_top_words - 1:-1]])\n",
    "    return topic_dict"
   ]
  },
  {
   "cell_type": "code",
   "execution_count": 6,
   "metadata": {},
   "outputs": [
    {
     "data": {
      "text/plain": [
       "{'Topic 0': 'game just play played time like ve really playing good games new got ll fun',\n",
       " 'Topic 1': 'looking forward games just going good game like vr man really make remake don time',\n",
       " 'Topic 2': 'play wait games ll game 10 just year like ps5 great starfield man hours think',\n",
       " 'Topic 3': 'like game looks don look just good know fps really sounds does think hope character',\n",
       " 'Topic 4': 'games game xbox pc console switch just year ps5 series best sony going gen consoles',\n",
       " 'Topic 5': 'game years just free price buy year content dlc 10 release pay day money worth',\n",
       " 'Topic 6': 'game people just games like don sony good make want microsoft money buy studios evil',\n",
       " 'Topic 7': 'final just like fantasy games game really ring elden better time ac best ps5 lol',\n",
       " 'Topic 8': 'game like games really good world great just story gameplay fun new love pretty open',\n",
       " 'Topic 9': 'ign article null like just game movie dead remake man star did think wars going'}"
      ]
     },
     "execution_count": 6,
     "metadata": {},
     "output_type": "execute_result"
    }
   ],
   "source": [
    "topics = display_topics(lda_model, vectorizer.get_feature_names_out(), no_top_words)\n",
    "topics"
   ]
  },
  {
   "cell_type": "code",
   "execution_count": 7,
   "metadata": {},
   "outputs": [
    {
     "data": {
      "text/html": [
       "<div>\n",
       "<style scoped>\n",
       "    .dataframe tbody tr th:only-of-type {\n",
       "        vertical-align: middle;\n",
       "    }\n",
       "\n",
       "    .dataframe tbody tr th {\n",
       "        vertical-align: top;\n",
       "    }\n",
       "\n",
       "    .dataframe thead th {\n",
       "        text-align: right;\n",
       "    }\n",
       "</style>\n",
       "<table border=\"1\" class=\"dataframe\">\n",
       "  <thead>\n",
       "    <tr style=\"text-align: right;\">\n",
       "      <th></th>\n",
       "      <th>Topic 0</th>\n",
       "      <th>Topic 1</th>\n",
       "      <th>Topic 2</th>\n",
       "      <th>Topic 3</th>\n",
       "      <th>Topic 4</th>\n",
       "      <th>Topic 5</th>\n",
       "      <th>Topic 6</th>\n",
       "      <th>Topic 7</th>\n",
       "      <th>Topic 8</th>\n",
       "      <th>Topic 9</th>\n",
       "    </tr>\n",
       "  </thead>\n",
       "  <tbody>\n",
       "    <tr>\n",
       "      <th>0</th>\n",
       "      <td>game just play played time like ve really play...</td>\n",
       "      <td>looking forward games just going good game lik...</td>\n",
       "      <td>play wait games ll game 10 just year like ps5 ...</td>\n",
       "      <td>like game looks don look just good know fps re...</td>\n",
       "      <td>games game xbox pc console switch just year ps...</td>\n",
       "      <td>game years just free price buy year content dl...</td>\n",
       "      <td>game people just games like don sony good make...</td>\n",
       "      <td>final just like fantasy games game really ring...</td>\n",
       "      <td>game like games really good world great just s...</td>\n",
       "      <td>ign article null like just game movie dead rem...</td>\n",
       "    </tr>\n",
       "  </tbody>\n",
       "</table>\n",
       "</div>"
      ],
      "text/plain": [
       "                                             Topic 0  \\\n",
       "0  game just play played time like ve really play...   \n",
       "\n",
       "                                             Topic 1  \\\n",
       "0  looking forward games just going good game lik...   \n",
       "\n",
       "                                             Topic 2  \\\n",
       "0  play wait games ll game 10 just year like ps5 ...   \n",
       "\n",
       "                                             Topic 3  \\\n",
       "0  like game looks don look just good know fps re...   \n",
       "\n",
       "                                             Topic 4  \\\n",
       "0  games game xbox pc console switch just year ps...   \n",
       "\n",
       "                                             Topic 5  \\\n",
       "0  game years just free price buy year content dl...   \n",
       "\n",
       "                                             Topic 6  \\\n",
       "0  game people just games like don sony good make...   \n",
       "\n",
       "                                             Topic 7  \\\n",
       "0  final just like fantasy games game really ring...   \n",
       "\n",
       "                                             Topic 8  \\\n",
       "0  game like games really good world great just s...   \n",
       "\n",
       "                                             Topic 9  \n",
       "0  ign article null like just game movie dead rem...  "
      ]
     },
     "execution_count": 7,
     "metadata": {},
     "output_type": "execute_result"
    }
   ],
   "source": [
    "topics_df = pd.DataFrame(topics, index=[0])\n",
    "\n",
    "topics_df"
   ]
  },
  {
   "cell_type": "code",
   "execution_count": 8,
   "metadata": {},
   "outputs": [
    {
     "data": {
      "text/html": [
       "<div>\n",
       "<style scoped>\n",
       "    .dataframe tbody tr th:only-of-type {\n",
       "        vertical-align: middle;\n",
       "    }\n",
       "\n",
       "    .dataframe tbody tr th {\n",
       "        vertical-align: top;\n",
       "    }\n",
       "\n",
       "    .dataframe thead th {\n",
       "        text-align: right;\n",
       "    }\n",
       "</style>\n",
       "<table border=\"1\" class=\"dataframe\">\n",
       "  <thead>\n",
       "    <tr style=\"text-align: right;\">\n",
       "      <th></th>\n",
       "      <th>Ranking</th>\n",
       "      <th>Topic</th>\n",
       "    </tr>\n",
       "  </thead>\n",
       "  <tbody>\n",
       "    <tr>\n",
       "      <th>0</th>\n",
       "      <td>Topic 1</td>\n",
       "      <td>game just play played time like ve really play...</td>\n",
       "    </tr>\n",
       "    <tr>\n",
       "      <th>1</th>\n",
       "      <td>Topic 2</td>\n",
       "      <td>looking forward games just going good game lik...</td>\n",
       "    </tr>\n",
       "    <tr>\n",
       "      <th>2</th>\n",
       "      <td>Topic 3</td>\n",
       "      <td>play wait games ll game 10 just year like ps5 ...</td>\n",
       "    </tr>\n",
       "    <tr>\n",
       "      <th>3</th>\n",
       "      <td>Topic 4</td>\n",
       "      <td>like game looks don look just good know fps re...</td>\n",
       "    </tr>\n",
       "    <tr>\n",
       "      <th>4</th>\n",
       "      <td>Topic 5</td>\n",
       "      <td>games game xbox pc console switch just year ps...</td>\n",
       "    </tr>\n",
       "    <tr>\n",
       "      <th>5</th>\n",
       "      <td>Topic 6</td>\n",
       "      <td>game years just free price buy year content dl...</td>\n",
       "    </tr>\n",
       "    <tr>\n",
       "      <th>6</th>\n",
       "      <td>Topic 7</td>\n",
       "      <td>game people just games like don sony good make...</td>\n",
       "    </tr>\n",
       "    <tr>\n",
       "      <th>7</th>\n",
       "      <td>Topic 8</td>\n",
       "      <td>final just like fantasy games game really ring...</td>\n",
       "    </tr>\n",
       "    <tr>\n",
       "      <th>8</th>\n",
       "      <td>Topic 9</td>\n",
       "      <td>game like games really good world great just s...</td>\n",
       "    </tr>\n",
       "    <tr>\n",
       "      <th>9</th>\n",
       "      <td>Topic 10</td>\n",
       "      <td>ign article null like just game movie dead rem...</td>\n",
       "    </tr>\n",
       "  </tbody>\n",
       "</table>\n",
       "</div>"
      ],
      "text/plain": [
       "    Ranking                                              Topic\n",
       "0   Topic 1  game just play played time like ve really play...\n",
       "1   Topic 2  looking forward games just going good game lik...\n",
       "2   Topic 3  play wait games ll game 10 just year like ps5 ...\n",
       "3   Topic 4  like game looks don look just good know fps re...\n",
       "4   Topic 5  games game xbox pc console switch just year ps...\n",
       "5   Topic 6  game years just free price buy year content dl...\n",
       "6   Topic 7  game people just games like don sony good make...\n",
       "7   Topic 8  final just like fantasy games game really ring...\n",
       "8   Topic 9  game like games really good world great just s...\n",
       "9  Topic 10  ign article null like just game movie dead rem..."
      ]
     },
     "execution_count": 8,
     "metadata": {},
     "output_type": "execute_result"
    }
   ],
   "source": [
    "topic_df_clean = {\n",
    "    \"Ranking\": [f\"Topic {i+1}\" for i in range(len(topics))],\n",
    "    \"Topic\": list(topics.values())\n",
    "}\n",
    "topic_df_clean = pd.DataFrame(topic_df_clean)\n",
    "\n",
    "topic_df_clean"
   ]
  }
 ],
 "metadata": {
  "kernelspec": {
   "display_name": "Python 3",
   "language": "python",
   "name": "python3"
  },
  "language_info": {
   "codemirror_mode": {
    "name": "ipython",
    "version": 3
   },
   "file_extension": ".py",
   "mimetype": "text/x-python",
   "name": "python",
   "nbconvert_exporter": "python",
   "pygments_lexer": "ipython3",
   "version": "3.11.3"
  },
  "orig_nbformat": 4
 },
 "nbformat": 4,
 "nbformat_minor": 2
}
