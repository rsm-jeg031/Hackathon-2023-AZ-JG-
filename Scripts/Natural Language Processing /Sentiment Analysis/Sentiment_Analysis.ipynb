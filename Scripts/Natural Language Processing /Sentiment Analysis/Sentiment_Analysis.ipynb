{
 "cells": [
  {
   "cell_type": "code",
   "execution_count": 28,
   "metadata": {},
   "outputs": [],
   "source": [
    "import pandas as pd\n",
    "from vaderSentiment.vaderSentiment import SentimentIntensityAnalyzer\n",
    "import matplotlib.pyplot as plt"
   ]
  },
  {
   "cell_type": "code",
   "execution_count": 3,
   "metadata": {},
   "outputs": [],
   "source": [
    "vader_analyzer = SentimentIntensityAnalyzer()"
   ]
  },
  {
   "cell_type": "code",
   "execution_count": 4,
   "metadata": {},
   "outputs": [],
   "source": [
    "ign = pd.read_csv(\"../../../Data/Final Dataset /IGN/IGN_Final.csv\")\n",
    "metacritic = pd.read_csv(\"../../../Data/Final Dataset /Metacritic/Metacritic_Final.csv\")\n",
    "psblog = pd.read_csv(\"../../../Data/Final Dataset /PSBlog/PSBlog_Final.csv\")\n",
    "reddit = pd.read_csv(\"../../../Data/Final Dataset /Reddit/Reddit_Final.csv\")"
   ]
  },
  {
   "cell_type": "code",
   "execution_count": 5,
   "metadata": {},
   "outputs": [
    {
     "name": "stdout",
     "output_type": "stream",
     "text": [
      "(41795, 5)\n",
      "(4803, 10)\n",
      "(13350, 5)\n",
      "(171358, 5)\n"
     ]
    }
   ],
   "source": [
    "print(ign.shape)\n",
    "print(metacritic.shape)\n",
    "print(psblog.shape)\n",
    "print(reddit.shape)"
   ]
  },
  {
   "cell_type": "code",
   "execution_count": 6,
   "metadata": {},
   "outputs": [
    {
     "name": "stdout",
     "output_type": "stream",
     "text": [
      "Index(['Author', 'Timestamp', 'Comment', 'Article', 'Game Title'], dtype='object')\n",
      "- - - - - - \n",
      "Index(['Game Title', 'Console', 'Commenter Name', 'Reviewer Type', 'Comment',\n",
      "       'Date Commented', 'Score Number', 'Release Date', 'Description',\n",
      "       'Game Link'],\n",
      "      dtype='object')\n",
      "- - - - - - \n",
      "Index(['Author', 'Timestamp', 'Comment', 'Article Link', 'Platform'], dtype='object')\n",
      "- - - - - - \n",
      "Index(['Author', 'Timestamp', 'Comment', 'Title', 'Upvotes'], dtype='object')\n"
     ]
    }
   ],
   "source": [
    "print(ign.columns)\n",
    "print(\"- - - - - - \")\n",
    "print(metacritic.columns)\n",
    "print(\"- - - - - - \")\n",
    "print(psblog.columns)\n",
    "print(\"- - - - - - \")\n",
    "print(reddit.columns)"
   ]
  },
  {
   "cell_type": "code",
   "execution_count": 7,
   "metadata": {},
   "outputs": [
    {
     "data": {
      "text/plain": [
       "((231306, 17),\n",
       " Index(['Author', 'Timestamp', 'Comment', 'Article', 'Game Title', 'Console',\n",
       "        'Commenter Name', 'Reviewer Type', 'Date Commented', 'Score Number',\n",
       "        'Release Date', 'Description', 'Game Link', 'Article Link', 'Platform',\n",
       "        'Title', 'Upvotes'],\n",
       "       dtype='object'))"
      ]
     },
     "execution_count": 7,
     "metadata": {},
     "output_type": "execute_result"
    }
   ],
   "source": [
    "all_data = pd.concat([ign, metacritic, psblog, reddit], ignore_index=True)\n",
    "\n",
    "all_data.shape, all_data.columns"
   ]
  },
  {
   "cell_type": "markdown",
   "metadata": {},
   "source": [
    "---"
   ]
  },
  {
   "cell_type": "markdown",
   "metadata": {},
   "source": [
    "### I noticed a lot of nulls testing here 💔"
   ]
  },
  {
   "cell_type": "code",
   "execution_count": 8,
   "metadata": {},
   "outputs": [
    {
     "data": {
      "text/plain": [
       "((231306,), 2922)"
      ]
     },
     "execution_count": 8,
     "metadata": {},
     "output_type": "execute_result"
    }
   ],
   "source": [
    "all_data['Comment'].shape, all_data['Comment'].isnull().sum()"
   ]
  },
  {
   "cell_type": "code",
   "execution_count": 15,
   "metadata": {},
   "outputs": [
    {
     "data": {
      "text/plain": [
       "((4803,), 2578)"
      ]
     },
     "execution_count": 15,
     "metadata": {},
     "output_type": "execute_result"
    }
   ],
   "source": [
    "metacritic['Comment'].shape, metacritic['Comment'].isnull().sum()"
   ]
  },
  {
   "cell_type": "code",
   "execution_count": 16,
   "metadata": {},
   "outputs": [
    {
     "data": {
      "text/plain": [
       "((13350,), 1)"
      ]
     },
     "execution_count": 16,
     "metadata": {},
     "output_type": "execute_result"
    }
   ],
   "source": [
    "psblog['Comment'].shape, psblog['Comment'].isnull().sum()"
   ]
  },
  {
   "cell_type": "code",
   "execution_count": 17,
   "metadata": {},
   "outputs": [
    {
     "data": {
      "text/plain": [
       "((171358,), 343)"
      ]
     },
     "execution_count": 17,
     "metadata": {},
     "output_type": "execute_result"
    }
   ],
   "source": [
    "reddit['Comment'].shape, reddit['Comment'].isnull().sum()"
   ]
  },
  {
   "cell_type": "code",
   "execution_count": 18,
   "metadata": {},
   "outputs": [
    {
     "data": {
      "text/plain": [
       "((41795,), 0)"
      ]
     },
     "execution_count": 18,
     "metadata": {},
     "output_type": "execute_result"
    }
   ],
   "source": [
    "ign['Comment'].shape, ign['Comment'].isnull().sum()"
   ]
  },
  {
   "cell_type": "markdown",
   "metadata": {},
   "source": [
    "### 🤷‍♂️ They add up so good enough \n",
    "---"
   ]
  },
  {
   "cell_type": "code",
   "execution_count": 19,
   "metadata": {},
   "outputs": [],
   "source": [
    "def analyze_sentiment_vader(text):\n",
    "    compound_score = vader_analyzer.polarity_scores(str(text))['compound']\n",
    "    \n",
    "    if compound_score >= 0.05:\n",
    "        return 'Positive'\n",
    "    elif -0.05 < compound_score < 0.05:\n",
    "        return 'Neutral'\n",
    "    else:\n",
    "        return 'Negative'"
   ]
  },
  {
   "cell_type": "code",
   "execution_count": 20,
   "metadata": {},
   "outputs": [],
   "source": [
    "all_data[\"Vader_Score\"] = all_data[\"Comment\"].apply(analyze_sentiment_vader)"
   ]
  },
  {
   "cell_type": "code",
   "execution_count": 21,
   "metadata": {},
   "outputs": [
    {
     "data": {
      "text/plain": [
       "Vader_Score\n",
       "Positive    123703\n",
       "Neutral      54798\n",
       "Negative     52805\n",
       "Name: count, dtype: int64"
      ]
     },
     "execution_count": 21,
     "metadata": {},
     "output_type": "execute_result"
    }
   ],
   "source": [
    "all_data[\"Vader_Score\"].value_counts()"
   ]
  },
  {
   "cell_type": "code",
   "execution_count": 23,
   "metadata": {},
   "outputs": [
    {
     "data": {
      "text/plain": [
       "(231306, 18)"
      ]
     },
     "execution_count": 23,
     "metadata": {},
     "output_type": "execute_result"
    }
   ],
   "source": [
    "all_data.shape"
   ]
  },
  {
   "cell_type": "markdown",
   "metadata": {},
   "source": [
    "# Vizzz 📊\n",
    "***but not so fancy stuff***"
   ]
  },
  {
   "cell_type": "code",
   "execution_count": 24,
   "metadata": {},
   "outputs": [],
   "source": [
    "sentiment_counts = all_data['Vader_Score'].value_counts()"
   ]
  },
  {
   "cell_type": "code",
   "execution_count": 30,
   "metadata": {},
   "outputs": [
    {
     "data": {
      "image/png": "[encoded data removed]",
      "text/plain": [
       "<Figure size 500x200 with 1 Axes>"
      ]
     },
     "metadata": {},
     "output_type": "display_data"
    }
   ],
   "source": [
    "plt.figure(figsize=(5, 2))\n",
    "sentiment_counts.sort_values(ascending=False).plot(kind='bar', color=['green', 'yellow', 'red'])\n",
    "plt.title('Overall Sentiment Distribution')\n",
    "plt.xlabel('Sentiment Category')\n",
    "plt.ylabel('Count')\n",
    "plt.show()"
   ]
  }
 ],
 "metadata": {
  "kernelspec": {
   "display_name": "Python 3",
   "language": "python",
   "name": "python3"
  },
  "language_info": {
   "codemirror_mode": {
    "name": "ipython",
    "version": 3
   },
   "file_extension": ".py",
   "mimetype": "text/x-python",
   "name": "python",
   "nbconvert_exporter": "python",
   "pygments_lexer": "ipython3",
   "version": "3.11.3"
  },
  "orig_nbformat": 4
 },
 "nbformat": 4,
 "nbformat_minor": 2
}
